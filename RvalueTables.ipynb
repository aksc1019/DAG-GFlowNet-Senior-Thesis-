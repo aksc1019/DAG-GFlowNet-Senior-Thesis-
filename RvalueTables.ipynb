{
 "cells": [
  {
   "cell_type": "code",
   "execution_count": 65,
   "id": "2a896077",
   "metadata": {},
   "outputs": [
    {
     "name": "stdout",
     "output_type": "stream",
     "text": [
      "Optimal power: 24.53208260466214\n",
      "Pearson correlation coefficient (r) after transformation: 1.0\n",
      "P-value for the Pearson correlation coefficient: 0.0\n"
     ]
    }
   ],
   "source": [
    "# Experiment 1\n",
    "import numpy as np\n",
    "from scipy.stats import pearsonr\n",
    "from scipy.optimize import minimize_scalar\n",
    "data1 = np.array([1, 0.96, 0.06])\n",
    "data2 = np.array([0.74, 0.43, 0.25])\n",
    "def negative_pearson_r(power):\n",
    "    transformed_data1 = data1 ** power\n",
    "    r, _ = pearsonr(transformed_data1, data2)\n",
    "    return -r\n",
    "opt_result = minimize_scalar(negative_pearson_r, bounds=(-100, 100), method='bounded')\n",
    "optimal_power = opt_result.x\n",
    "transformed_data1_optimal = data1 ** optimal_power\n",
    "r_optimal, p_value_optimal = pearsonr(transformed_data1_optimal, data2)\n",
    "print(f\"Optimal power: {optimal_power}\")\n",
    "print(f\"Pearson correlation coefficient (r) after transformation: {r_optimal}\")\n",
    "print(f\"P-value for the Pearson correlation coefficient: {p_value_optimal}\")\n"
   ]
  },
  {
   "cell_type": "code",
   "execution_count": 5,
   "id": "4457f9e4",
   "metadata": {},
   "outputs": [
    {
     "name": "stdout",
     "output_type": "stream",
     "text": [
      "[ 6.90675478  3.17805383 -2.75153531]\n"
     ]
    }
   ],
   "source": [
    "# Experiment 1\n",
    "import numpy as np\n",
    "from scipy.optimize import minimize_scalar\n",
    "from scipy.stats import pearsonr\n",
    "data1 = np.array([0.999, 0.96, 0.06])\n",
    "data2 = np.array([0.74, 0.43, 0.25])\n",
    "data1_log_odds = np.log(data1 / (1 - data1))\n",
    "def negative_pearson_r(power):\n",
    "    transformed_data1 = np.power(data1_log_odds, power)\n",
    "    r, _ = pearsonr(transformed_data1, data2)\n",
    "    return -r\n",
    "print(data1_log_odds)"
   ]
  },
  {
   "cell_type": "code",
   "execution_count": 6,
   "id": "c0c47102",
   "metadata": {},
   "outputs": [
    {
     "name": "stdout",
     "output_type": "stream",
     "text": [
      "Optimal power: 3.857950271324527e-07\n",
      "Pearson correlation coefficient (r) after transformation: 0.9914186394396356\n",
      "P-value for the Pearson correlation coefficient: 0.08346112902255592\n"
     ]
    }
   ],
   "source": [
    "# Experiment 1\n",
    "import numpy as np\n",
    "from scipy.stats import pearsonr\n",
    "from scipy.optimize import minimize_scalar\n",
    "data1 = np.array([ 6.90675478, 3.17805383, -2.75153531])\n",
    "data2 = np.array([0.74, 0.43, 0.25])\n",
    "def negative_pearson_r(power):\n",
    "    transformed_data2 = data2 ** power\n",
    "    r, _ = pearsonr(data1, transformed_data2)\n",
    "    return -r\n",
    "opt_result = minimize_scalar(negative_pearson_r, bounds=(-0.11, 0.1), method='bounded')\n",
    "optimal_power = opt_result.x\n",
    "transformed_data2_optimal = data2 ** optimal_power\n",
    "r_optimal, p_value_optimal = pearsonr(data1, transformed_data2_optimal)\n",
    "print(f\"Optimal power: {optimal_power}\")\n",
    "print(f\"Pearson correlation coefficient (r) after transformation: {r_optimal}\")\n",
    "print(f\"P-value for the Pearson correlation coefficient: {p_value_optimal}\")"
   ]
  },
  {
   "cell_type": "code",
   "execution_count": 7,
   "id": "1243e7e1",
   "metadata": {},
   "outputs": [
    {
     "name": "stdout",
     "output_type": "stream",
     "text": [
      "Optimal power: 2.9580937628991655\n",
      "Pearson correlation coefficient (r) after transformation: 0.8402847792756927\n",
      "P-value for the Pearson correlation coefficient: 8.79632483494189e-05\n"
     ]
    }
   ],
   "source": [
    "#Experiment 2\n",
    "import numpy as np\n",
    "from scipy.stats import pearsonr\n",
    "from scipy.optimize import minimize_scalar\n",
    "\n",
    "# Datasets\n",
    "data1 = np.array([0.37, 0.13, 0.12, 0.13, 0.37, 0.57, 0.2, 0.2, 0.57, 0.9, 0.59, 0.9, 0.99, 0.99, 1])\n",
    "data2 = np.array([0.41, 0.33, 0.37, 0.29, 0.09, 0.58, 0.47, 0.46, 0.34, 0.71, 0.54, 0.57, 0.77, 0.69, 0.89])\n",
    "\n",
    "# Function to compute negative Pearson r to be minimized\n",
    "def negative_pearson_r(power):\n",
    "    transformed_data1 = data1 ** power\n",
    "    r, _ = pearsonr(transformed_data1, data2)\n",
    "    return -r  # Minimize the negative of r to maximize r\n",
    "\n",
    "# Use minimize_scalar to find the power that maximizes Pearson r\n",
    "opt_result = minimize_scalar(negative_pearson_r, bounds=(0.01, 10), method='bounded')\n",
    "\n",
    "# Optimal power\n",
    "optimal_power = opt_result.x\n",
    "\n",
    "# Apply the power-law transformation with the optimal power\n",
    "transformed_data1_optimal = data1 ** optimal_power\n",
    "\n",
    "# Calculate the Pearson correlation coefficient for the transformed data\n",
    "r_optimal, p_value_optimal = pearsonr(transformed_data1_optimal, data2)\n",
    "\n",
    "# Print the results\n",
    "print(f\"Optimal power: {optimal_power}\")\n",
    "print(f\"Pearson correlation coefficient (r) after transformation: {r_optimal}\")\n",
    "print(f\"P-value for the Pearson correlation coefficient: {p_value_optimal}\")\n"
   ]
  },
  {
   "cell_type": "code",
   "execution_count": 8,
   "id": "c65db084",
   "metadata": {},
   "outputs": [
    {
     "name": "stdout",
     "output_type": "stream",
     "text": [
      "[-0.53221681 -1.90095876 -1.99243016 -1.90095876 -0.53221681  0.28185115\n",
      " -1.38629436 -1.38629436  0.28185115  2.19722458  0.36396538  2.19722458\n",
      "  4.59511985  4.59511985  6.90675478]\n"
     ]
    }
   ],
   "source": [
    "import numpy as np\n",
    "from scipy.optimize import minimize_scalar\n",
    "from scipy.stats import pearsonr\n",
    "data1 = np.array([0.37, 0.13, 0.12, 0.13, 0.37, 0.57, 0.2, 0.2, 0.57, 0.9, 0.59, 0.9, 0.99, 0.99, 0.999])\n",
    "data2 = np.array([0.41, 0.33, 0.37, 0.29, 0.09, 0.58, 0.47, 0.46, 0.34, 0.71, 0.54, 0.57, 0.77, 0.69, 0.89])\n",
    "data1_log_odds = np.log(data1 / (1 - data1))\n",
    "def negative_pearson_r(power):\n",
    "    transformed_data1 = np.power(data1_log_odds, power)\n",
    "    r, _ = pearsonr(transformed_data1, data2)\n",
    "    return -r\n",
    "\n",
    "print(data1_log_odds)"
   ]
  },
  {
   "cell_type": "code",
   "execution_count": 9,
   "id": "b3f92887",
   "metadata": {},
   "outputs": [
    {
     "name": "stdout",
     "output_type": "stream",
     "text": [
      "Optimal power: 2.8589959664184463\n",
      "Pearson correlation coefficient (r) after transformation: 0.9281443441615697\n",
      "P-value for the Pearson correlation coefficient: 6.093390465551397e-07\n"
     ]
    }
   ],
   "source": [
    "# Experiment 2\n",
    "import numpy as np\n",
    "from scipy.stats import pearsonr\n",
    "from scipy.optimize import minimize_scalar\n",
    "data1 = np.array([-0.53221681, -1.90095876, -1.99243016, -1.90095876, -0.53221681,  0.28185115,\n",
    " -1.38629436, -1.38629436,  0.28185115,  2.19722458,  0.36396538,  2.19722458,\n",
    "  4.59511985,  4.59511985,  6.90675478])\n",
    "data2 = np.array([0.41, 0.33, 0.37, 0.29, 0.09, 0.58, 0.47, 0.46, 0.34, 0.71, 0.54, 0.57, 0.77, 0.69, 0.89])\n",
    "def negative_pearson_r(power):\n",
    "    transformed_data2 = data2 ** power\n",
    "    r, _ = pearsonr(data1, transformed_data2)\n",
    "    return -r\n",
    "opt_result = minimize_scalar(negative_pearson_r, bounds=(-100, 400), method='bounded')\n",
    "optimal_power = opt_result.x\n",
    "transformed_data2_optimal = data2 ** optimal_power\n",
    "r_optimal, p_value_optimal = pearsonr(data1, transformed_data2_optimal)\n",
    "print(f\"Optimal power: {optimal_power}\")\n",
    "print(f\"Pearson correlation coefficient (r) after transformation: {r_optimal}\")\n",
    "print(f\"P-value for the Pearson correlation coefficient: {p_value_optimal}\")\n"
   ]
  },
  {
   "cell_type": "code",
   "execution_count": 195,
   "id": "cec65b22",
   "metadata": {},
   "outputs": [
    {
     "name": "stdout",
     "output_type": "stream",
     "text": [
      "Optimal power: 1.0708980337503156\n",
      "Pearson correlation coefficient (r) after transformation: 0.5655276583322628\n",
      "P-value for the Pearson correlation coefficient: 0.06980265889789605\n"
     ]
    }
   ],
   "source": [
    "# Experiment 3\n",
    "import numpy as np\n",
    "from scipy.stats import pearsonr\n",
    "from scipy.optimize import minimize_scalar\n",
    "data1 = np.array([1, 1, 1, 1, 1, 1, 1, 1, 1, 1, 0.14])\n",
    "data2 = np.array([36.5/100, 57/100, 73.5/100, 48.5/100, 61.5/100, 77.2/100, 98.5/100, 60.3/100, 49.5/100, 55.2/100, 24/100])\n",
    "def negative_pearson_r(power):\n",
    "    transformed_data1 = data1 ** power\n",
    "    r, _ = pearsonr(transformed_data1, data2)\n",
    "    return -r \n",
    "opt_result = minimize_scalar(negative_pearson_r, bounds=(0.9, 1.1), method='bounded')\n",
    "optimal_power = opt_result.x\n",
    "transformed_data1_optimal = data1 ** optimal_power\n",
    "r_optimal, p_value_optimal = pearsonr(transformed_data1_optimal, data2)\n",
    "print(f\"Optimal power: {optimal_power}\")\n",
    "print(f\"Pearson correlation coefficient (r) after transformation: {r_optimal}\")\n",
    "print(f\"P-value for the Pearson correlation coefficient: {p_value_optimal}\")"
   ]
  },
  {
   "cell_type": "code",
   "execution_count": 246,
   "id": "3272166b",
   "metadata": {},
   "outputs": [
    {
     "name": "stdout",
     "output_type": "stream",
     "text": [
      "[ 6.90675478  6.90675478  6.90675478  6.90675478  6.90675478  6.90675478\n",
      "  6.90675478  6.90675478  6.90675478  6.90675478 -1.81528997]\n",
      "Optimal power: 2.0415715823137568e-06\n",
      "Pearson correlation coefficient (r) after transformation: 0.7226624359839657\n",
      "P-value for the Pearson correlation coefficient: 0.011994468937604386\n"
     ]
    }
   ],
   "source": [
    "# Experiment 3\n",
    "import numpy as np\n",
    "from scipy.optimize import minimize_scalar\n",
    "from scipy.stats import pearsonr\n",
    "data1 = np.array([0.999, 0.999, 0.999, 0.999, 0.999, 0.999, 0.999, 0.999, 0.999, 0.999, 0.14])\n",
    "data2 = np.array([36.5/100, 57/100, 73.5/100, 48.5/100, 61.5/100, 77.2/100, 98.5/100, 60.3/100, 49.5/100, 55.2/100, 24/100])\n",
    "data1_log_odds = np.log(data1 / (1 - data1))\n",
    "print(data1_log_odds)\n",
    "data1 = data1_log_odds\n",
    "def negative_pearson_r(power):\n",
    "    transformed_data2 = data2 ** power\n",
    "    r, _ = pearsonr(data1, transformed_data2)\n",
    "    return -r \n",
    "opt_result = minimize_scalar(negative_pearson_r, bounds=(-100, 10), method='bounded')\n",
    "optimal_power = opt_result.x\n",
    "transformed_data2_optimal = data2 ** optimal_power\n",
    "r_optimal, p_value_optimal = pearsonr(data1, transformed_data2_optimal)\n",
    "print(f\"Optimal power: {optimal_power}\")\n",
    "print(f\"Pearson correlation coefficient (r) after transformation: {r_optimal}\")\n",
    "print(f\"P-value for the Pearson correlation coefficient: {p_value_optimal}\")\n"
   ]
  },
  {
   "cell_type": "code",
   "execution_count": 255,
   "id": "267939ae",
   "metadata": {},
   "outputs": [
    {
     "name": "stdout",
     "output_type": "stream",
     "text": [
      "Optimal power: 17.17677848772984\n",
      "Pearson correlation coefficient (r) after transformation: 0.933467172439834\n",
      "P-value for the Pearson correlation coefficient: 1.0838491086123584e-06\n"
     ]
    }
   ],
   "source": [
    "# Experiment 4\n",
    "import numpy as np\n",
    "from scipy.stats import pearsonr\n",
    "from scipy.optimize import minimize_scalar\n",
    "data1 = np.array([1, 1, 1, 0.14, 0.96, 0.06, 0.96, 0.05, 0.5, 0.04, 0.5, 0.06, 0.36, 1])\n",
    "data2 = np.array([15/20, 13.5/20, 13/20, 6.5/20, 9/20, 5.8/20, 8/20, 4/20, 4.6/20, 3.8/20, 4.2/20, 1.3/20, 0.8/20, 11.3/20])\n",
    "def negative_pearson_r(power):\n",
    "    transformed_data1 = data1 ** power\n",
    "    r, _ = pearsonr(transformed_data1, data2)\n",
    "    return -r \n",
    "opt_result = minimize_scalar(negative_pearson_r, bounds=(-100, 2000), method='bounded')\n",
    "optimal_power = opt_result.x\n",
    "transformed_data1_optimal = data1 ** optimal_power\n",
    "r_optimal, p_value_optimal = pearsonr(transformed_data1_optimal, data2)\n",
    "print(f\"Optimal power: {optimal_power}\")\n",
    "print(f\"Pearson correlation coefficient (r) after transformation: {r_optimal}\")\n",
    "print(f\"P-value for the Pearson correlation coefficient: {p_value_optimal}\")\n"
   ]
  },
  {
   "cell_type": "code",
   "execution_count": 273,
   "id": "b29054b4",
   "metadata": {},
   "outputs": [
    {
     "name": "stdout",
     "output_type": "stream",
     "text": [
      "[ 6.90675478  6.90675478  6.90675478 -1.81528997  3.17805383 -2.75153531\n",
      "  3.17805383 -2.94443898  0.         -3.17805383  0.         -2.75153531\n",
      " -0.57536414  6.90675478]\n",
      "Optimal power: 1.5704892779927382\n",
      "Pearson correlation coefficient (r) after transformation: 0.9149422326214603\n",
      "P-value for the Pearson correlation coefficient: 4.54223966527202e-06\n"
     ]
    }
   ],
   "source": [
    "# Experiment 4\n",
    "import numpy as np\n",
    "from scipy.optimize import minimize_scalar\n",
    "from scipy.stats import pearsonr\n",
    "data1 = np.array([0.999, 0.999, 0.999, 0.14, 0.96, 0.06, 0.96, 0.05, 0.5, 0.04, 0.5, 0.06, 0.36, 0.999])\n",
    "data2 = np.array([15/20, 13.5/20, 13/20, 6.5/20, 9/20, 5.8/20, 8/20, 4/20, 4.6/20, 3.8/20, 4.2/20, 1.3/20, 0.8/20, 11.3/20])\n",
    "data1_log_odds = np.log(data1 / (1 - data1))\n",
    "print(data1_log_odds)\n",
    "data1 = data1_log_odds\n",
    "def negative_pearson_r(power):\n",
    "    transformed_data2 = data2 ** power\n",
    "    r, _ = pearsonr(data1, transformed_data2)\n",
    "    return -r \n",
    "opt_result = minimize_scalar(negative_pearson_r, bounds=(0, 2), method='bounded')\n",
    "optimal_power = opt_result.x\n",
    "transformed_data2_optimal = data2 ** optimal_power\n",
    "r_optimal, p_value_optimal = pearsonr(data1, transformed_data2_optimal)\n",
    "print(f\"Optimal power: {optimal_power}\")\n",
    "print(f\"Pearson correlation coefficient (r) after transformation: {r_optimal}\")\n",
    "print(f\"P-value for the Pearson correlation coefficient: {p_value_optimal}\")\n"
   ]
  },
  {
   "cell_type": "code",
   "execution_count": 151,
   "id": "2d3f09f9",
   "metadata": {},
   "outputs": [
    {
     "name": "stdout",
     "output_type": "stream",
     "text": [
      "Optimal power: 811.2621150077617\n",
      "Pearson correlation coefficient (r) after transformation: 0.6876431265926425\n",
      "P-value for the Pearson correlation coefficient: 0.01936175401202536\n"
     ]
    }
   ],
   "source": [
    "# Experiment 5\n",
    "import numpy as np\n",
    "from scipy.stats import pearsonr\n",
    "from scipy.optimize import minimize_scalar\n",
    "data1 = np.array([0.557, 0.990, 1, 0.679, 0.998, 1, 1, 0.998, 0.93, 0.998, 0.119])\n",
    "data2 = np.array([57/100, 63/100, 70/100, 66/100, 79/100, 88/100, 96/100, 65/100, 54/100, 37/100, 32/100])\n",
    "def negative_pearson_r(power):\n",
    "    transformed_data1 = data1 ** power\n",
    "    r, _ = pearsonr(transformed_data1, data2)\n",
    "    return -r \n",
    "opt_result = minimize_scalar(negative_pearson_r, bounds=(-1000, 20000), method='bounded')\n",
    "optimal_power = opt_result.x\n",
    "transformed_data1_optimal = data1 ** optimal_power\n",
    "r_optimal, p_value_optimal = pearsonr(transformed_data1_optimal, data2)\n",
    "print(f\"Optimal power: {optimal_power}\")\n",
    "print(f\"Pearson correlation coefficient (r) after transformation: {r_optimal}\")\n",
    "print(f\"P-value for the Pearson correlation coefficient: {p_value_optimal}\")\n"
   ]
  },
  {
   "cell_type": "code",
   "execution_count": 281,
   "id": "991b885a",
   "metadata": {},
   "outputs": [
    {
     "name": "stdout",
     "output_type": "stream",
     "text": [
      "[ 0.22899547  4.59511985  6.90675478  0.74918     6.2126061   6.90675478\n",
      "  6.90675478  6.2126061   2.58668934  6.2126061  -2.00193413]\n",
      "Optimal power: 1.2302628601885397\n",
      "Pearson correlation coefficient (r) after transformation: 0.6119918913349005\n",
      "P-value for the Pearson correlation coefficient: 0.04537567072967833\n"
     ]
    }
   ],
   "source": [
    "# Experiment 5\n",
    "import numpy as np\n",
    "from scipy.stats import pearsonr\n",
    "from scipy.optimize import minimize_scalar\n",
    "data1 = np.array([0.557, 0.990, 0.999, 0.679, 0.998, 0.999, 0.999, 0.998, 0.93, 0.998, 0.119])\n",
    "data2 = np.array([57/100, 63/100, 70/100, 66/100, 79/100, 88/100, 96/100, 65/100, 54/100, 37/100, 32/100])\n",
    "data1_log_odds = np.log(data1 / (1 - data1))\n",
    "print(data1_log_odds)\n",
    "data1 = data1_log_odds\n",
    "def negative_pearson_r(power):\n",
    "    transformed_data2 = data2 ** power\n",
    "    r, _ = pearsonr(data1, transformed_data2)\n",
    "    return -r\n",
    "opt_result = minimize_scalar(negative_pearson_r, bounds=(-100, 2000), method='bounded')\n",
    "optimal_power = opt_result.x\n",
    "transformed_data2_optimal = data2 ** optimal_power\n",
    "r_optimal, p_value_optimal = pearsonr(data1, transformed_data2_optimal)\n",
    "print(f\"Optimal power: {optimal_power}\")\n",
    "print(f\"Pearson correlation coefficient (r) after transformation: {r_optimal}\")\n",
    "print(f\"P-value for the Pearson correlation coefficient: {p_value_optimal}\")\n"
   ]
  },
  {
   "cell_type": "code",
   "execution_count": 171,
   "id": "ee0d75ee",
   "metadata": {},
   "outputs": [
    {
     "name": "stdout",
     "output_type": "stream",
     "text": [
      "Optimal power: 3.881603907134382\n",
      "Pearson correlation coefficient (r) after transformation: 0.90503094152828\n",
      "P-value for the Pearson correlation coefficient: 0.0007911862287036123\n"
     ]
    }
   ],
   "source": [
    "# Experiment 6\n",
    "import numpy as np\n",
    "from scipy.stats import pearsonr\n",
    "from scipy.optimize import minimize_scalar\n",
    "data1 = np.array([1, 1, 1, 0.559, 0.286, 0.878, 0.041, 0.065, 0.134, ])\n",
    "data2 = np.array([92/100, 94/100, 99/100, 42/100, 71/100, 73/100, 32/100, 28/100, 36/100])\n",
    "def negative_pearson_r(power):\n",
    "    transformed_data1 = data1 ** power\n",
    "    r, _ = pearsonr(transformed_data1, data2)\n",
    "    return -r \n",
    "opt_result = minimize_scalar(negative_pearson_r, bounds=(0, 200), method='bounded')\n",
    "optimal_power = opt_result.x\n",
    "transformed_data1_optimal = data1 ** optimal_power\n",
    "r_optimal, p_value_optimal = pearsonr(transformed_data1_optimal, data2)\n",
    "print(f\"Optimal power: {optimal_power}\")\n",
    "print(f\"Pearson correlation coefficient (r) after transformation: {r_optimal}\")\n",
    "print(f\"P-value for the Pearson correlation coefficient: {p_value_optimal}\")\n"
   ]
  },
  {
   "cell_type": "code",
   "execution_count": 282,
   "id": "4971f4ca",
   "metadata": {},
   "outputs": [
    {
     "name": "stdout",
     "output_type": "stream",
     "text": [
      "[ 6.90675478  6.90675478  6.90675478  0.2371046  -0.91489115  1.97362555\n",
      " -3.15231901 -2.66615926 -1.86604511]\n",
      "Optimal power: 3.233554828657164\n",
      "Pearson correlation coefficient (r) after transformation: 0.9566101010570901\n",
      "P-value for the Pearson correlation coefficient: 5.369487933013176e-05\n"
     ]
    }
   ],
   "source": [
    "# Experiment 6\n",
    "import numpy as np\n",
    "from scipy.stats import pearsonr\n",
    "from scipy.optimize import minimize_scalar\n",
    "data1 = np.array([0.999, 0.999, 0.999, 0.559, 0.286, 0.878, 0.041, 0.065, 0.134])\n",
    "data2 = np.array([92/100, 94/100, 99/100, 42/100, 71/100, 73/100, 32/100, 28/100, 36/100])\n",
    "data1_log_odds = np.log(data1 / (1 - data1))\n",
    "print(data1_log_odds)\n",
    "data1 = data1_log_odds\n",
    "def negative_pearson_r(power):\n",
    "    transformed_data2 = data2 ** power\n",
    "    r, _ = pearsonr(data1, transformed_data2)\n",
    "    return -r\n",
    "opt_result = minimize_scalar(negative_pearson_r, bounds=(-100, 2000), method='bounded')\n",
    "optimal_power = opt_result.x\n",
    "transformed_data2_optimal = data2 ** optimal_power\n",
    "r_optimal, p_value_optimal = pearsonr(data1, transformed_data2_optimal)\n",
    "print(f\"Optimal power: {optimal_power}\")\n",
    "print(f\"Pearson correlation coefficient (r) after transformation: {r_optimal}\")\n",
    "print(f\"P-value for the Pearson correlation coefficient: {p_value_optimal}\")\n"
   ]
  },
  {
   "cell_type": "code",
   "execution_count": 176,
   "id": "19c8e7a8",
   "metadata": {},
   "outputs": [
    {
     "name": "stdout",
     "output_type": "stream",
     "text": [
      "Optimal power: 1.4786524424271792\n",
      "Pearson correlation coefficient (r) after transformation: 0.8969708666626159\n",
      "P-value for the Pearson correlation coefficient: 0.001043694622315633\n"
     ]
    }
   ],
   "source": [
    "# Experiment 7\n",
    "import numpy as np\n",
    "from scipy.stats import pearsonr\n",
    "from scipy.optimize import minimize_scalar\n",
    "\n",
    "data1 = np.array([1, 0.47, 0.36, 0.68, 0.32, 0.78, 0.22, 0.09, 0.06])\n",
    "data2 = np.array([1, 0.38, 0.33, 0.75, 0.63, 0.75, 0.50, 0.25, 0.29])\n",
    "\n",
    "def negative_pearson_r(power):\n",
    "    transformed_data1 = data1 ** power\n",
    "    r, _ = pearsonr(transformed_data1, data2)\n",
    "    return -r \n",
    "\n",
    "opt_result = minimize_scalar(negative_pearson_r, bounds=(-200, 200), method='bounded')\n",
    "optimal_power = opt_result.x\n",
    "transformed_data1_optimal = data1 ** optimal_power\n",
    "r_optimal, p_value_optimal = pearsonr(transformed_data1_optimal, data2)\n",
    "print(f\"Optimal power: {optimal_power}\")\n",
    "print(f\"Pearson correlation coefficient (r) after transformation: {r_optimal}\")\n",
    "print(f\"P-value for the Pearson correlation coefficient: {p_value_optimal}\")\n"
   ]
  },
  {
   "cell_type": "code",
   "execution_count": 287,
   "id": "2ce93541",
   "metadata": {},
   "outputs": [
    {
     "name": "stdout",
     "output_type": "stream",
     "text": [
      "[ 6.90675478 -0.12014431 -0.57536414  0.7537718  -0.7537718   1.26566637\n",
      " -1.26566637 -2.31363493 -2.75153531]\n",
      "Optimal power: 4.151930889296608\n",
      "Pearson correlation coefficient (r) after transformation: 0.9612863745809612\n",
      "P-value for the Pearson correlation coefficient: 3.6190952062639714e-05\n"
     ]
    }
   ],
   "source": [
    "# Experiment 7\n",
    "import numpy as np\n",
    "from scipy.stats import pearsonr\n",
    "from scipy.optimize import minimize_scalar\n",
    "\n",
    "data1 = np.array([0.999, 0.47, 0.36, 0.68, 0.32, 0.78, 0.22, 0.09, 0.06])\n",
    "data2 = np.array([1, 0.38, 0.33, 0.75, 0.63, 0.75, 0.50, 0.25, 0.29])\n",
    "data1_log_odds = np.log(data1 / (1 - data1))\n",
    "print(data1_log_odds)\n",
    "data1 = data1_log_odds\n",
    "\n",
    "def negative_pearson_r(power):\n",
    "    transformed_data2 = data2 ** power\n",
    "    r, _ = pearsonr(data1, transformed_data2)\n",
    "    return -r \n",
    "\n",
    "opt_result = minimize_scalar(negative_pearson_r, bounds=(-100, 200), method='bounded')\n",
    "optimal_power = opt_result.x\n",
    "transformed_data2_optimal = data2 ** optimal_power\n",
    "r_optimal, p_value_optimal = pearsonr(data1, transformed_data2_optimal)\n",
    "print(f\"Optimal power: {optimal_power}\")\n",
    "print(f\"Pearson correlation coefficient (r) after transformation: {r_optimal}\")\n",
    "print(f\"P-value for the Pearson correlation coefficient: {p_value_optimal}\")\n"
   ]
  },
  {
   "cell_type": "code",
   "execution_count": 3,
   "id": "e61b10c0",
   "metadata": {
    "scrolled": true
   },
   "outputs": [
    {
     "data": {
      "text/html": [
       "<style type=\"text/css\">\n",
       "#T_666ff th {\n",
       "  background-color: #f4f4f4;\n",
       "  color: black;\n",
       "}\n",
       "#T_666ff_row0_col0, #T_666ff_row0_col1, #T_666ff_row0_col2, #T_666ff_row1_col0, #T_666ff_row1_col1, #T_666ff_row1_col2, #T_666ff_row2_col0, #T_666ff_row2_col1, #T_666ff_row2_col2, #T_666ff_row3_col0, #T_666ff_row3_col1, #T_666ff_row3_col2, #T_666ff_row4_col0, #T_666ff_row4_col1, #T_666ff_row4_col2, #T_666ff_row5_col0, #T_666ff_row5_col1, #T_666ff_row5_col2, #T_666ff_row6_col0, #T_666ff_row6_col1, #T_666ff_row6_col2, #T_666ff_row7_col0, #T_666ff_row7_col1, #T_666ff_row7_col2, #T_666ff_row8_col0, #T_666ff_row8_col1, #T_666ff_row8_col2 {\n",
       "  background-color: white;\n",
       "  color: black;\n",
       "  border-color: black;\n",
       "}\n",
       "</style>\n",
       "<table id=\"T_666ff\">\n",
       "  <thead>\n",
       "    <tr>\n",
       "      <th class=\"blank level0\" >&nbsp;</th>\n",
       "      <th id=\"T_666ff_level0_col0\" class=\"col_heading level0 col0\" >Experiment #</th>\n",
       "      <th id=\"T_666ff_level0_col1\" class=\"col_heading level0 col1\" >R-value</th>\n",
       "      <th id=\"T_666ff_level0_col2\" class=\"col_heading level0 col2\" >Optimal Power</th>\n",
       "    </tr>\n",
       "  </thead>\n",
       "  <tbody>\n",
       "    <tr>\n",
       "      <th id=\"T_666ff_level0_row0\" class=\"row_heading level0 row0\" >0</th>\n",
       "      <td id=\"T_666ff_row0_col0\" class=\"data row0 col0\" >Experiment 1</td>\n",
       "      <td id=\"T_666ff_row0_col1\" class=\"data row0 col1\" >1.0</td>\n",
       "      <td id=\"T_666ff_row0_col2\" class=\"data row0 col2\" >24.53</td>\n",
       "    </tr>\n",
       "    <tr>\n",
       "      <th id=\"T_666ff_level0_row1\" class=\"row_heading level0 row1\" >1</th>\n",
       "      <td id=\"T_666ff_row1_col0\" class=\"data row1 col0\" >Experiment 2</td>\n",
       "      <td id=\"T_666ff_row1_col1\" class=\"data row1 col1\" >0.84</td>\n",
       "      <td id=\"T_666ff_row1_col2\" class=\"data row1 col2\" >2.96</td>\n",
       "    </tr>\n",
       "    <tr>\n",
       "      <th id=\"T_666ff_level0_row2\" class=\"row_heading level0 row2\" >2</th>\n",
       "      <td id=\"T_666ff_row2_col0\" class=\"data row2 col0\" >Experiment 3</td>\n",
       "      <td id=\"T_666ff_row2_col1\" class=\"data row2 col1\" >0.57</td>\n",
       "      <td id=\"T_666ff_row2_col2\" class=\"data row2 col2\" >1</td>\n",
       "    </tr>\n",
       "    <tr>\n",
       "      <th id=\"T_666ff_level0_row3\" class=\"row_heading level0 row3\" >3</th>\n",
       "      <td id=\"T_666ff_row3_col0\" class=\"data row3 col0\" >Experiment 4</td>\n",
       "      <td id=\"T_666ff_row3_col1\" class=\"data row3 col1\" >0.93</td>\n",
       "      <td id=\"T_666ff_row3_col2\" class=\"data row3 col2\" >17.18</td>\n",
       "    </tr>\n",
       "    <tr>\n",
       "      <th id=\"T_666ff_level0_row4\" class=\"row_heading level0 row4\" >4</th>\n",
       "      <td id=\"T_666ff_row4_col0\" class=\"data row4 col0\" >Experiment 5</td>\n",
       "      <td id=\"T_666ff_row4_col1\" class=\"data row4 col1\" >0.69</td>\n",
       "      <td id=\"T_666ff_row4_col2\" class=\"data row4 col2\" >811.26</td>\n",
       "    </tr>\n",
       "    <tr>\n",
       "      <th id=\"T_666ff_level0_row5\" class=\"row_heading level0 row5\" >5</th>\n",
       "      <td id=\"T_666ff_row5_col0\" class=\"data row5 col0\" >Experiment 6</td>\n",
       "      <td id=\"T_666ff_row5_col1\" class=\"data row5 col1\" >0.91</td>\n",
       "      <td id=\"T_666ff_row5_col2\" class=\"data row5 col2\" >3.88</td>\n",
       "    </tr>\n",
       "    <tr>\n",
       "      <th id=\"T_666ff_level0_row6\" class=\"row_heading level0 row6\" >6</th>\n",
       "      <td id=\"T_666ff_row6_col0\" class=\"data row6 col0\" >Experiment 7</td>\n",
       "      <td id=\"T_666ff_row6_col1\" class=\"data row6 col1\" >0.90</td>\n",
       "      <td id=\"T_666ff_row6_col2\" class=\"data row6 col2\" >1.48</td>\n",
       "    </tr>\n",
       "    <tr>\n",
       "      <th id=\"T_666ff_level0_row7\" class=\"row_heading level0 row7\" >7</th>\n",
       "      <td id=\"T_666ff_row7_col0\" class=\"data row7 col0\" >Mean</td>\n",
       "      <td id=\"T_666ff_row7_col1\" class=\"data row7 col1\" >0.83</td>\n",
       "      <td id=\"T_666ff_row7_col2\" class=\"data row7 col2\" >na</td>\n",
       "    </tr>\n",
       "    <tr>\n",
       "      <th id=\"T_666ff_level0_row8\" class=\"row_heading level0 row8\" >8</th>\n",
       "      <td id=\"T_666ff_row8_col0\" class=\"data row8 col0\" >Median</td>\n",
       "      <td id=\"T_666ff_row8_col1\" class=\"data row8 col1\" >0.90</td>\n",
       "      <td id=\"T_666ff_row8_col2\" class=\"data row8 col2\" >na</td>\n",
       "    </tr>\n",
       "  </tbody>\n",
       "</table>\n"
      ],
      "text/plain": [
       "<pandas.io.formats.style.Styler at 0x148f5b288f50>"
      ]
     },
     "execution_count": 3,
     "metadata": {},
     "output_type": "execute_result"
    }
   ],
   "source": [
    "## NORMAL TABLE\n",
    "\n",
    "import pandas as pd\n",
    "\n",
    "data = {\n",
    "    \"Experiment #\": [\"Experiment 1\", \"Experiment 2\", \"Experiment 3\", \"Experiment 4\", \n",
    "                     \"Experiment 5\", \"Experiment 6\", \"Experiment 7\", \"Mean\", \"Median\"],\n",
    "    \"R-value\": [\"1.0\", \"0.84\", \"0.57\", \"0.93\", \"0.69\", \"0.91\", \"0.90\", \"0.83\", \"0.90\"],\n",
    "    \"Optimal Power\": [\"24.53\", \"2.96\", \"1\", \"17.18\", \"811.26\", \"3.88\", \"1.48\", \"na\", \"na\"]\n",
    "}\n",
    "\n",
    "df = pd.DataFrame(data)\n",
    "styled_df = df.style.set_table_styles(\n",
    "    [{'selector': 'th', 'props': [('background-color', '#f4f4f4'), ('color', 'black')]}]\n",
    ").set_properties(**{'background-color': 'white', 'color': 'black', 'border-color': 'black'})\n",
    "styled_df\n"
   ]
  },
  {
   "cell_type": "code",
   "execution_count": 2,
   "id": "544845a2",
   "metadata": {},
   "outputs": [
    {
     "data": {
      "text/html": [
       "<style type=\"text/css\">\n",
       "#T_6fbb5 th {\n",
       "  background-color: #f4f4f4;\n",
       "  color: black;\n",
       "}\n",
       "#T_6fbb5_row0_col0, #T_6fbb5_row0_col1, #T_6fbb5_row0_col2, #T_6fbb5_row1_col0, #T_6fbb5_row1_col1, #T_6fbb5_row1_col2, #T_6fbb5_row2_col0, #T_6fbb5_row2_col1, #T_6fbb5_row2_col2, #T_6fbb5_row3_col0, #T_6fbb5_row3_col1, #T_6fbb5_row3_col2, #T_6fbb5_row4_col0, #T_6fbb5_row4_col1, #T_6fbb5_row4_col2, #T_6fbb5_row5_col0, #T_6fbb5_row5_col1, #T_6fbb5_row5_col2, #T_6fbb5_row6_col0, #T_6fbb5_row6_col1, #T_6fbb5_row6_col2, #T_6fbb5_row7_col0, #T_6fbb5_row7_col1, #T_6fbb5_row7_col2, #T_6fbb5_row8_col0, #T_6fbb5_row8_col1, #T_6fbb5_row8_col2 {\n",
       "  background-color: white;\n",
       "  color: black;\n",
       "  border-color: black;\n",
       "}\n",
       "</style>\n",
       "<table id=\"T_6fbb5\">\n",
       "  <thead>\n",
       "    <tr>\n",
       "      <th class=\"blank level0\" >&nbsp;</th>\n",
       "      <th id=\"T_6fbb5_level0_col0\" class=\"col_heading level0 col0\" >Experiment #</th>\n",
       "      <th id=\"T_6fbb5_level0_col1\" class=\"col_heading level0 col1\" >R-value</th>\n",
       "      <th id=\"T_6fbb5_level0_col2\" class=\"col_heading level0 col2\" >Optimal Power</th>\n",
       "    </tr>\n",
       "  </thead>\n",
       "  <tbody>\n",
       "    <tr>\n",
       "      <th id=\"T_6fbb5_level0_row0\" class=\"row_heading level0 row0\" >0</th>\n",
       "      <td id=\"T_6fbb5_row0_col0\" class=\"data row0 col0\" >Experiment 1</td>\n",
       "      <td id=\"T_6fbb5_row0_col1\" class=\"data row0 col1\" >0.99</td>\n",
       "      <td id=\"T_6fbb5_row0_col2\" class=\"data row0 col2\" >3.86e-7</td>\n",
       "    </tr>\n",
       "    <tr>\n",
       "      <th id=\"T_6fbb5_level0_row1\" class=\"row_heading level0 row1\" >1</th>\n",
       "      <td id=\"T_6fbb5_row1_col0\" class=\"data row1 col0\" >Experiment 2</td>\n",
       "      <td id=\"T_6fbb5_row1_col1\" class=\"data row1 col1\" >0.93</td>\n",
       "      <td id=\"T_6fbb5_row1_col2\" class=\"data row1 col2\" >2.86</td>\n",
       "    </tr>\n",
       "    <tr>\n",
       "      <th id=\"T_6fbb5_level0_row2\" class=\"row_heading level0 row2\" >2</th>\n",
       "      <td id=\"T_6fbb5_row2_col0\" class=\"data row2 col0\" >Experiment 3</td>\n",
       "      <td id=\"T_6fbb5_row2_col1\" class=\"data row2 col1\" >0.72</td>\n",
       "      <td id=\"T_6fbb5_row2_col2\" class=\"data row2 col2\" >2.04e-06</td>\n",
       "    </tr>\n",
       "    <tr>\n",
       "      <th id=\"T_6fbb5_level0_row3\" class=\"row_heading level0 row3\" >3</th>\n",
       "      <td id=\"T_6fbb5_row3_col0\" class=\"data row3 col0\" >Experiment 4</td>\n",
       "      <td id=\"T_6fbb5_row3_col1\" class=\"data row3 col1\" >0.91</td>\n",
       "      <td id=\"T_6fbb5_row3_col2\" class=\"data row3 col2\" >1.57</td>\n",
       "    </tr>\n",
       "    <tr>\n",
       "      <th id=\"T_6fbb5_level0_row4\" class=\"row_heading level0 row4\" >4</th>\n",
       "      <td id=\"T_6fbb5_row4_col0\" class=\"data row4 col0\" >Experiment 5</td>\n",
       "      <td id=\"T_6fbb5_row4_col1\" class=\"data row4 col1\" >0.61</td>\n",
       "      <td id=\"T_6fbb5_row4_col2\" class=\"data row4 col2\" >1.23</td>\n",
       "    </tr>\n",
       "    <tr>\n",
       "      <th id=\"T_6fbb5_level0_row5\" class=\"row_heading level0 row5\" >5</th>\n",
       "      <td id=\"T_6fbb5_row5_col0\" class=\"data row5 col0\" >Experiment 6</td>\n",
       "      <td id=\"T_6fbb5_row5_col1\" class=\"data row5 col1\" >0.96</td>\n",
       "      <td id=\"T_6fbb5_row5_col2\" class=\"data row5 col2\" >3.23</td>\n",
       "    </tr>\n",
       "    <tr>\n",
       "      <th id=\"T_6fbb5_level0_row6\" class=\"row_heading level0 row6\" >6</th>\n",
       "      <td id=\"T_6fbb5_row6_col0\" class=\"data row6 col0\" >Experiment 7</td>\n",
       "      <td id=\"T_6fbb5_row6_col1\" class=\"data row6 col1\" >0.96</td>\n",
       "      <td id=\"T_6fbb5_row6_col2\" class=\"data row6 col2\" >4.15</td>\n",
       "    </tr>\n",
       "    <tr>\n",
       "      <th id=\"T_6fbb5_level0_row7\" class=\"row_heading level0 row7\" >7</th>\n",
       "      <td id=\"T_6fbb5_row7_col0\" class=\"data row7 col0\" >Mean</td>\n",
       "      <td id=\"T_6fbb5_row7_col1\" class=\"data row7 col1\" >0.87</td>\n",
       "      <td id=\"T_6fbb5_row7_col2\" class=\"data row7 col2\" >na</td>\n",
       "    </tr>\n",
       "    <tr>\n",
       "      <th id=\"T_6fbb5_level0_row8\" class=\"row_heading level0 row8\" >8</th>\n",
       "      <td id=\"T_6fbb5_row8_col0\" class=\"data row8 col0\" >Median</td>\n",
       "      <td id=\"T_6fbb5_row8_col1\" class=\"data row8 col1\" >0.93</td>\n",
       "      <td id=\"T_6fbb5_row8_col2\" class=\"data row8 col2\" >na</td>\n",
       "    </tr>\n",
       "  </tbody>\n",
       "</table>\n"
      ],
      "text/plain": [
       "<pandas.io.formats.style.Styler at 0x148f5c026fc0>"
      ]
     },
     "execution_count": 2,
     "metadata": {},
     "output_type": "execute_result"
    }
   ],
   "source": [
    "## LOG-ODDS TABLE\n",
    "\n",
    "import pandas as pd\n",
    "\n",
    "data = {\n",
    "    \"Experiment #\": [\"Experiment 1\", \"Experiment 2\", \"Experiment 3\", \"Experiment 4\", \n",
    "                     \"Experiment 5\", \"Experiment 6\", \"Experiment 7\", \"Mean\", \"Median\"],\n",
    "    \"R-value\": [\"0.99\", \"0.93\", \"0.72\", \"0.91\", \"0.61\", \"0.96\", \"0.96\", \"0.87\", \"0.93\"], \n",
    "    \"Optimal Power\": [\"3.86e-7\", \"2.86\", \"2.04e-06\", \"1.57\", \"1.23\", \"3.23\", \"4.15\",\"na\", \"na\"]\n",
    "}\n",
    "\n",
    "df = pd.DataFrame(data)\n",
    "styled_df = df.style.set_table_styles(\n",
    "    [{'selector': 'th', 'props': [('background-color', '#f4f4f4'), ('color', 'black')]}]\n",
    ").set_properties(**{'background-color': 'white', 'color': 'black', 'border-color': 'black'})\n",
    "styled_df\n"
   ]
  }
 ],
 "metadata": {
  "kernelspec": {
   "display_name": "GFN-env [~/.conda/envs/GFN-env/]",
   "language": "python",
   "name": "conda_gfn-env"
  },
  "language_info": {
   "codemirror_mode": {
    "name": "ipython",
    "version": 3
   },
   "file_extension": ".py",
   "mimetype": "text/x-python",
   "name": "python",
   "nbconvert_exporter": "python",
   "pygments_lexer": "ipython3",
   "version": "3.12.1"
  }
 },
 "nbformat": 4,
 "nbformat_minor": 5
}
